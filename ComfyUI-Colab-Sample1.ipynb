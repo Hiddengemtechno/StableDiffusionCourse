{
  "nbformat": 4,
  "nbformat_minor": 0,
  "metadata": {
    "colab": {
      "provenance": [],
      "machine_shape": "hm",
      "gpuType": "T4"
    },
    "kernelspec": {
      "name": "python3",
      "display_name": "Python 3"
    },
    "language_info": {
      "name": "python"
    },
    "accelerator": "GPU"
  },
  "cells": [
    {
      "cell_type": "code",
      "execution_count": null,
      "metadata": {
        "cellView": "form",
        "id": "ov4cyvTbOey8"
      },
      "outputs": [],
      "source": [
        "#@markdown # 🛠️ ติดตั้ง ComfyUI (เวอร์ชัน Shuttle3 GGUF พร้อมใช้งานทันที)\n",
        "from IPython.display import Javascript , display, HTML\n",
        "from google.colab import drive\n",
        "import os, json\n",
        "display(Javascript('''google.colab.output.setIframeHeight(0, true, {maxHeight: 350})'''))\n",
        "\n",
        "# เชื่อมต่อ Google Drive\n",
        "%cd /content\n",
        "drive.mount('/content/drive')\n",
        "\n",
        "# ลบของเก่าออกก่อนถ้ามี\n",
        "!rm -rf /content/ComfyUI\n",
        "\n",
        "# ดาวน์โหลดเวอร์ชันล่าสุดของ ComfyUI (มี requirements.txt ครบ)\n",
        "!git clone -b master https://github.com/comfyanonymous/ComfyUI.git\n",
        "%cd /content/ComfyUI\n",
        "\n",
        "# สร้าง user settings\n",
        "os.makedirs(\"user/default\", exist_ok=True)\n",
        "with open(\"user/default/comfy.settings.json\", \"w\") as f:\n",
        "  json.dump({\"Comfy.PreviewFormat\": \"webp;85\"}, f, indent=2)\n",
        "\n",
        "# ติดตั้ง cloudflared\n",
        "!wget -q https://github.com/cloudflare/cloudflared/releases/latest/download/cloudflared-linux-amd64.deb\n",
        "!dpkg -i cloudflared-linux-amd64.deb\n",
        "\n",
        "# ติดตั้ง dependencies\n",
        "!apt -y install -qq aria2\n",
        "!pip install -r requirements.txt --extra-index-url https://download.pytorch.org/whl/cu124 xformers!=0.0.18 triton SageAttention\n",
        "\n",
        "# สร้างโฟลเดอร์สำหรับโมเดล\n",
        "folders = [\"checkpoints\", \"vae\", \"unet\", \"clip\", \"custom_nodes\"]\n",
        "for f in folders:\n",
        "    os.makedirs(f\"models/{f}\", exist_ok=True)\n",
        "\n",
        "# ✅ ดาวน์โหลดโมเดลหลักที่ workflow ใช้\n",
        "!aria2c -x 8 -s 8 -d models/unet -o shuttle-3-diffusion-Q4_K_S.gguf https://huggingface.co/shuttleai/shuttle-3-diffusion-GGUF/resolve/main/shuttle-3-diffusion-Q4_K_S.gguf\n",
        "!aria2c -x 8 -s 8 -d models/clip -o clip_l.safetensors https://huggingface.co/comfyanonymous/flux_text_encoders/resolve/main/clip_l.safetensors\n",
        "!aria2c -x 8 -s 8 -d models/vae -o ae.safetensors https://huggingface.co/Patarapoom/model/resolve/main/ae.safetensors\n",
        "!aria2c -x 8 -s 8 -d models/clip -o t5xxl_fp8_e4m3fn.safetensors https://huggingface.co/comfyanonymous/flux_text_encoders/resolve/main/t5xxl_fp8_e4m3fn.safetensors\n",
        "\n",
        "# ✅ ติดตั้ง Custom Nodes ที่จำเป็น\n",
        "%cd /content/ComfyUI/custom_nodes\n",
        "!git clone https://github.com/kijai/ComfyUI-KJNodes\n",
        "!git clone https://github.com/city96/ComfyUI-GGUF\n",
        "\n",
        "# ✅ ติดตั้ง requirements ของ custom nodes\n",
        "%cd /content/ComfyUI/custom_nodes/ComfyUI-KJNodes\n",
        "!pip install -r requirements.txt\n",
        "\n",
        "%cd /content/ComfyUI/custom_nodes/ComfyUI-GGUF\n",
        "!pip install -r requirements.txt\n",
        "\n",
        "# 🔙 กลับไปยังโฟลเดอร์หลัก\n",
        "%cd /content/ComfyUI\n",
        "\n",
        "# ✅ แจ้งสถานะ\n",
        "display(HTML('<div style=\"padding:16px; background:#111; color:#0f0; font-size:18px; border-radius:12px; font-family:monospace\">✅ ติดตั้งเสร็จแล้ว! พร้อมใช้งาน workflow Shuttle3 GGUF แล้วไปเซลล์ถัดไปรัน ComfyUI ได้เลย</div>'))\n"
      ]
    },
    {
      "cell_type": "code",
      "source": [
        "#@markdown # 🚀 เริ่ม ComfyUI พร้อม cloudflared\n",
        "import subprocess, threading, time, socket\n",
        "from IPython.display import Javascript, display\n",
        "display(Javascript('''google.colab.output.setIframeHeight(0, true, {maxHeight: 300})'''))\n",
        "\n",
        "def tunnel(port=8188):\n",
        "    while True:\n",
        "        time.sleep(1)\n",
        "        s = socket.socket()\n",
        "        if s.connect_ex((\"127.0.0.1\", port)) == 0:\n",
        "            break\n",
        "    p = subprocess.Popen([\"cloudflared\", \"tunnel\", \"--url\", f\"http://127.0.0.1:{port}\"],\n",
        "                         stdout=subprocess.PIPE, stderr=subprocess.PIPE)\n",
        "    for line in p.stderr:\n",
        "        text = line.decode()\n",
        "        if \"trycloudflare.com \" in text:\n",
        "            url = text[text.find(\"http\"):].strip()\n",
        "            print(\"\\n\" + \"=\"*60)\n",
        "            print(\"📡  ComfyUI พร้อมใช้งานแล้วที่ลิงก์ด้านล่างนี้\")\n",
        "            print(\"🔗 \", url.strip())\n",
        "            print(\"=\"*60 + \"\\n\")\n",
        "\n",
        "threading.Thread(target=tunnel, daemon=True).start()\n",
        "!python main.py --dont-print-server --output-directory /content/drive/MyDrive/ComfyUI_Output\n"
      ],
      "metadata": {
        "cellView": "form",
        "id": "Fowhtx_9O-pv"
      },
      "execution_count": null,
      "outputs": []
    }
  ]
}